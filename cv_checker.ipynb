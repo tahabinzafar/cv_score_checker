{
 "cells": [
  {
   "cell_type": "code",
   "execution_count": 14,
   "metadata": {},
   "outputs": [
    {
     "name": "stdout",
     "output_type": "stream",
     "text": [
      "Welcome to the CV Fit Testing System!\n"
     ]
    },
    {
     "name": "stderr",
     "output_type": "stream",
     "text": [
      "Some weights of the PyTorch model were not used when initializing the TF 2.0 model TFBertModel: ['cls.predictions.transform.LayerNorm.bias', 'cls.predictions.transform.dense.bias', 'cls.predictions.bias', 'cls.seq_relationship.bias', 'cls.predictions.transform.LayerNorm.weight', 'cls.predictions.transform.dense.weight', 'cls.seq_relationship.weight']\n",
      "- This IS expected if you are initializing TFBertModel from a PyTorch model trained on another task or with another architecture (e.g. initializing a TFBertForSequenceClassification model from a BertForPreTraining model).\n",
      "- This IS NOT expected if you are initializing TFBertModel from a PyTorch model that you expect to be exactly identical (e.g. initializing a TFBertForSequenceClassification model from a BertForSequenceClassification model).\n",
      "All the weights of TFBertModel were initialized from the PyTorch model.\n",
      "If your task is similar to the task the model of the checkpoint was trained on, you can already use TFBertModel for predictions without further training.\n"
     ]
    },
    {
     "name": "stdout",
     "output_type": "stream",
     "text": [
      "\n",
      "Your CV matches the job description by 78.96%.\n",
      "Congratulations! Your CV seems to be a good fit for this job.\n"
     ]
    }
   ],
   "source": [
    "from transformers import BertTokenizer, TFBertModel\n",
    "import tensorflow as tf\n",
    "from sklearn.metrics.pairwise import cosine_similarity\n",
    "\n",
    "def encode_text(text, model, tokenizer):\n",
    "    input_ids = tokenizer.encode(text, add_special_tokens=True, truncation=True, max_length=512, return_tensors='tf')\n",
    "    outputs = model(input_ids)\n",
    "    last_hidden_states = outputs.last_hidden_state\n",
    "    return tf.reduce_mean(last_hidden_states, axis=1).numpy()\n",
    "\n",
    "def check_cv_fit(job_description, cv_text):\n",
    "    tokenizer = BertTokenizer.from_pretrained('bert-base-uncased')\n",
    "    model = TFBertModel.from_pretrained('bert-base-uncased')\n",
    "\n",
    "    job_encoding = encode_text(job_description, model, tokenizer)\n",
    "    cv_encoding = encode_text(cv_text, model, tokenizer)\n",
    "\n",
    "    similarity_score = cosine_similarity(job_encoding, cv_encoding)[0][0]\n",
    "    return similarity_score * 100\n",
    "\n",
    "def main():\n",
    "    print(\"Welcome to the CV Fit Testing System!\")\n",
    "    job_description = input(\"Please enter the job description: \")\n",
    "    cv_text = input(\"Please paste your CV here: \")\n",
    "\n",
    "    match_percentage = check_cv_fit(job_description, cv_text)\n",
    "    print(f\"\\nYour CV matches the job description by {match_percentage:.2f}%.\")\n",
    "\n",
    "    # Threshold for match success (adjust as needed)\n",
    "    threshold = 50\n",
    "    if match_percentage >= threshold:\n",
    "        print(\"Congratulations! Your CV seems to be a good fit for this job.\")\n",
    "    else:\n",
    "        print(\"Your CV may need some adjustments to better fit this job.\")\n",
    "\n",
    "if __name__ == \"__main__\":\n",
    "    main()\n"
   ]
  },
  {
   "cell_type": "code",
   "execution_count": null,
   "metadata": {},
   "outputs": [],
   "source": []
  }
 ],
 "metadata": {
  "kernelspec": {
   "display_name": "Python 3",
   "language": "python",
   "name": "python3"
  },
  "language_info": {
   "codemirror_mode": {
    "name": "ipython",
    "version": 3
   },
   "file_extension": ".py",
   "mimetype": "text/x-python",
   "name": "python",
   "nbconvert_exporter": "python",
   "pygments_lexer": "ipython3",
   "version": "3.11.9"
  }
 },
 "nbformat": 4,
 "nbformat_minor": 2
}
